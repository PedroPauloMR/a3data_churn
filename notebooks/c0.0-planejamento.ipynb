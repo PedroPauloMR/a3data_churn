{
 "cells": [
  {
   "cell_type": "markdown",
   "id": "70673b4d",
   "metadata": {},
   "source": [
    "# A3DATA - CHURN PROBLEM"
   ]
  },
  {
   "cell_type": "markdown",
   "id": "08543d6a",
   "metadata": {},
   "source": [
    "# Sobre o Problema\n",
    "\n",
    "- O objetivo deste teste é que você consiga explorar e demonstrar suas habilidades técnicas e de negócio, trazendo insights acionáveis para o negócio.\n",
    "- Caso seja necessário, você pode definir premissas e suposições, basta justificá-las.\n",
    "\n",
    "- Definição do problema:\n",
    "    -   A empresa de telecomunicações contratou a A3Data para avaliar o cenário de churn elevado dos seus clientes e, uma vez que estamos falando de um produto com custo elevado de setup (instalação), a empresa gostaria de uma estratégia para reduzir esse churn.\n",
    "    - Você pode desenvolver o teste em sua linguagem de programação de preferência."
   ]
  },
  {
   "cell_type": "markdown",
   "id": "cd2d6784",
   "metadata": {},
   "source": [
    "# Sobre o dataset\n",
    "\n"
   ]
  },
  {
   "cell_type": "markdown",
   "id": "ac50fbc7",
   "metadata": {
    "ExecuteTime": {
     "end_time": "2023-06-25T12:33:28.022485Z",
     "start_time": "2023-06-25T12:33:28.014380Z"
    }
   },
   "source": [
    "- **customerID**: ID do cliente\n",
    "- **gender**: gênero do cliente\n",
    "- **SeniorCitizen**: se é um cidadão idoso (!?)\n",
    "- **Partner**: se possui parceiro(a)\n",
    "- **Dependents**: se possui dependentes\n",
    "- **tenure**: meses de assinatura do serviço\n",
    "- **PhoneService**: se possui ou não serviço de telefone\n",
    "- **MultipleLines**:se possui ou não múltiplas linhas telefônicas\n",
    "- **InternetService**:se possui ou não serviço de internet\n",
    "- **OnlineSecurity**:se possui ou não segurança online\n",
    "- **OnlineBackup**:se possui ou não backup online\n",
    "- **DeviceProtection**:se possui ou não dispositivo de proteção\n",
    "- **TechSupport**:se possui ou não suporte técnico\n",
    "- **StreamingTV**:se possui ou não streaming na TV\n",
    "- **StreamingMovies**:se possui ou não serviço de streamling com filmes\n",
    "- **Contract**: tipo de contrato assinado\n",
    "- **PaperlessBilling**: se a fatura é digital ou não (!?)\n",
    "- **PaymentMethod**: método de pagamento\n",
    "- **MonthlyCharges**: cobrança mensal\n",
    "- **TotalCharges**: cobrança total\n",
    "- **Churn**: se entrou em CHURN ou não"
   ]
  },
  {
   "cell_type": "code",
   "execution_count": null,
   "id": "cb4fc398",
   "metadata": {},
   "outputs": [],
   "source": []
  },
  {
   "cell_type": "code",
   "execution_count": null,
   "id": "49a42b13",
   "metadata": {},
   "outputs": [],
   "source": []
  },
  {
   "cell_type": "markdown",
   "id": "e334e888",
   "metadata": {},
   "source": [
    "# Saída\n",
    "\n",
    "- Entregar a acurácia da ferramenta;\n",
    "- Apresentar os insights a partir das hipóteses levantadas;\n",
    "- Propor alguma promoção que diminua o índice;"
   ]
  },
  {
   "cell_type": "markdown",
   "id": "5f0a7068",
   "metadata": {},
   "source": [
    "# Entrada\n",
    "- 7.043 registros de clientes\n",
    "- 21 features, sendo uma relacionada se o cliente entrou em churn ou não\n"
   ]
  },
  {
   "cell_type": "markdown",
   "id": "d1003da6",
   "metadata": {
    "ExecuteTime": {
     "end_time": "2023-06-25T12:42:02.952448Z",
     "start_time": "2023-06-25T12:42:02.944404Z"
    }
   },
   "source": [
    "# Tarefas\n",
    "- Realizar a EDA, englobando: tratamento de outliers e dados faltantes, correlações, hipóteses\n",
    "- Feature engineering para criar possíveis variáveis que auxiliem no modelo além de eliminar irrelevantes\n",
    "- Criação do modelo preditivo para identificar os cliente em churn\n",
    "- Levantar métricas de negócio que possam auxiliar na diminuição dessa taxa"
   ]
  },
  {
   "cell_type": "code",
   "execution_count": null,
   "id": "cc4b83df",
   "metadata": {},
   "outputs": [],
   "source": []
  },
  {
   "cell_type": "markdown",
   "id": "ade05df0",
   "metadata": {},
   "source": [
    "# Hipóteses"
   ]
  },
  {
   "cell_type": "code",
   "execution_count": null,
   "id": "a270d158",
   "metadata": {},
   "outputs": [],
   "source": [
    "## H1 - Clientes com MonthlyCharges maior ou igual a média apresentam maior churn que abaixo dela\n",
    "## H2 - O gênero é irrelevante para o churn\n",
    "## H3 - Clientes com PaperlessBilling = 0 apresentam maior churn que quem é 1\n",
    "## H4 - Contrato do tipo Mês-a-Mês é o que apresenta maior índice de churn\n",
    "## H5 - Quem possui DSL como serviço de internet possui maior índice de churn\n",
    "## H6 - Quem não possui dependentes tem maior índice de churn\n",
    "## H7 - Quem não tem parceiro tem maior índice de churn\n",
    "## H8 - Tenure abaixo da média possui maior churn que acima dela\n",
    "## H9 - Quem possui método de pagamento automático tem menor índice de churn de quem não optou por esse método\n",
    "## H10 - Quem possui quantidade de serviços abaixo da média tem maior índice de churn de quem está acima dela"
   ]
  }
 ],
 "metadata": {
  "hide_input": false,
  "kernelspec": {
   "display_name": "Python 3 (ipykernel)",
   "language": "python",
   "name": "python3"
  },
  "language_info": {
   "codemirror_mode": {
    "name": "ipython",
    "version": 3
   },
   "file_extension": ".py",
   "mimetype": "text/x-python",
   "name": "python",
   "nbconvert_exporter": "python",
   "pygments_lexer": "ipython3",
   "version": "3.8.13"
  },
  "toc": {
   "base_numbering": 1,
   "nav_menu": {},
   "number_sections": true,
   "sideBar": true,
   "skip_h1_title": false,
   "title_cell": "Table of Contents",
   "title_sidebar": "Contents",
   "toc_cell": false,
   "toc_position": {},
   "toc_section_display": true,
   "toc_window_display": false
  }
 },
 "nbformat": 4,
 "nbformat_minor": 5
}
